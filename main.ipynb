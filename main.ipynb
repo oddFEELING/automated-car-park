{
 "cells": [
  {
   "cell_type": "markdown",
   "id": "eee679ea",
   "metadata": {},
   "source": [
    "<div style = 'font-size: 16px; color: white; background-color: #2F2E3E; padding: 15px 10px; border-radius: 4px; border-radius: 10px'>\n",
    "    <h1>🚘 Automated Parking system</h1>\n",
    "    <h3>- Intro </h3>\n",
    "    <p> This notebook implements a system to get the optimum path to the nearest available parking bay in a parking lot for four vehicles. This would in turn help self driving vehicles to navigate the parking lot while getting the optimum parking spot for the driver. </p>\n",
    "    <h3>- How to run </h3>\n",
    "    <p>Chenge the value of the \"count\" parameter in the \"spawn_parked_vehicles()\" function in code cell 4 to any number from 1 - 22, then rerun all cells in the notebook to create new instances everytime.</p>\n",
    "    <h3>Vehicle colors</h3>\n",
    "    <ul>\n",
    "        <li>Parked vehicles - orange </li>\n",
    "        <li>Vehicle one - Blue</li>\n",
    "        <li>Vehicle two - red</li>\n",
    "        <li>Vehicle three - yellow</li>\n",
    "        <li>Vehicle four - green</li>\n",
    "    </ul>\n",
    "    <h3>- Optional </h3>\n",
    "    <p>Chenge the value of the \"footprints\" parameter in the \"agent()\" function in code cell 4 to True or False to toggle visible vehicle path travesal, then rerun all cells in the notebook to create new instances everytime.</p>\n",
    "</div>"
   ]
  },
  {
   "cell_type": "markdown",
   "id": "7dc5073f",
   "metadata": {},
   "source": [
    "### Payamaze Source code changes:\n",
    "\n",
    "The original source code for payamaze was forked and customized for use in this notebook hence, the offical source code version would give errors if used.\n",
    "\n",
    "- Added the __'mazeName'__ attribute to the __'CreateMaze'__ method of maze class to give maze custom name when __'saveMaze'__ flag is set to True\n",
    "- Added the __'windowName'__ attribute to the __'CreateMaze'__ method of maze class and is used by internal method __'drawMaze()'__ function which now serves as the TKinter GUI window title when simulator is started.\n",
    "- Added color obects: \n",
    "    - parked_vehicle\n",
    "    - current_vehicle\n",
    "    - search_path"
   ]
  },
  {
   "cell_type": "markdown",
   "id": "55edf345",
   "metadata": {},
   "source": [
    "<div style = 'font-size: 16px; color: white; background-color: #2F2E3E; padding: 15px 10px; border-radius: 4px; border-radius: 10px'>\n",
    "    <h2>📦 Package Imports</h2>\n",
    "</div>"
   ]
  },
  {
   "cell_type": "code",
   "execution_count": 1,
   "id": "8ded0996",
   "metadata": {},
   "outputs": [],
   "source": [
    "import os\n",
    "import warnings\n",
    "import random\n",
    "\n",
    "# Run local instance of PYAMAZE package to access module exports\n",
    "%run pyamaze_custom_source.ipynb\n",
    "\n",
    "# config\n",
    "warnings.filterwarnings(action='once')"
   ]
  },
  {
   "cell_type": "markdown",
   "id": "2acdb0a0",
   "metadata": {},
   "source": [
    "<div style = 'font-size: 16px; color: white; background-color: #2F2E3E; padding: 15px 10px; border-radius: 4px; border-radius: 10px'>\n",
    "    <h2>🐥 Function Declarations</h2>\n",
    "    <p>Declaration of all functions used in the Notebook </p>\n",
    "</div>"
   ]
  },
  {
   "cell_type": "code",
   "execution_count": 2,
   "id": "aa1d3016",
   "metadata": {},
   "outputs": [],
   "source": [
    "##############################################################################################################################\n",
    "# 01 -> function to spawn parked vehicles                                                                                  ###\n",
    "##############################################################################################################################\n",
    "\n",
    "def spawn_parked_vehicles(mz, pointList, count = 5):\n",
    "    \"\"\"\n",
    "    Spawns parked vehicles in random parking bays.\n",
    "    \n",
    "    Parameters:\n",
    "    -----------\n",
    "    mz -> Instance of pyamaze maze.\n",
    "    pointList -> Marked cells representing parking bay locations.\n",
    "    count (int) -> number of parked vehicles to spawn.\n",
    "    \n",
    "    Returns:\n",
    "    --------\n",
    "    spawn_points (set) -> Set containing locations of spawned parked vehicles.\n",
    "    \"\"\"\n",
    "    # create empty set to hold parked vehicle spawn points\n",
    "    spawn_points = set()\n",
    "    \n",
    "    # check that spawn count is less than spawn point list\n",
    "    if count < len(pointList) - 3:\n",
    "        # populate set with random unique values from the marked cells\n",
    "        while len(spawn_points) < count:\n",
    "            spawn_points.add(random.choice(pointList))\n",
    "    \n",
    "        # for every point, create an uncontrolled parked vehicle in the marked spot\n",
    "        for point in spawn_points:\n",
    "            agent(mz, shape = 'arrow', color = COLOR.parked_vehicle).position = point\n",
    "    else:\n",
    "        raise Exception(f'Count: {count}, is higher than number of available spawn points: ({len(pointList) - 4})') \n",
    "    \n",
    "    # return spawn points that have been occupied\n",
    "    return spawn_points\n",
    "\n",
    "\n",
    "##############################################################################################################################\n",
    "# 02 -> function to perform breadth first search                                                                           ###\n",
    "##############################################################################################################################\n",
    "\n",
    "def BFS(mz, goal):\n",
    "    \"\"\"\n",
    "    Performs Breradth First Search (BFS) on a given maze\n",
    "    \n",
    "    Parameters:\n",
    "    -----------\n",
    "    mz -> maze instance of PyAmaze\n",
    "    goal -> Cell position to be considered as goal/target\n",
    "    \n",
    "    returns:\n",
    "    --------\n",
    "    path_string (str) -> STring containing the optimal path to acheive the goal.\n",
    "    \n",
    "    \"\"\"\n",
    "    start = (mz.rows, mz.cols)\n",
    "    # create 2 queues to hold the current stack and explored cells\n",
    "    frontier = [start]\n",
    "    explored = [start]\n",
    "    \n",
    "    bfs_path = {}\n",
    "    \n",
    "    while len(frontier) > 0:\n",
    "        current_cell = frontier.pop(0)\n",
    "        \n",
    "        # break if the cell is the goal \n",
    "        if current_cell == goal:\n",
    "            break\n",
    "        \n",
    "        for direction in 'ESNW':\n",
    "            if mz.maze_map[current_cell][direction] == True:\n",
    "                if direction == 'E':\n",
    "                    child_cell = (current_cell[0], current_cell[1] + 1)\n",
    "                elif direction == 'W':\n",
    "                    child_cell = (current_cell[0], current_cell[1] - 1)\n",
    "                elif direction == 'N':\n",
    "                    child_cell = (current_cell[0] - 1, current_cell[1])\n",
    "                elif direction == 'S':\n",
    "                    child_cell = (current_cell[0] + 1, current_cell[1])\n",
    "                    \n",
    "                # do nothing if child cell is already explored \n",
    "                if child_cell in explored:\n",
    "                    continue \n",
    "                    \n",
    "                # otherwise append the child cell to the frontier and explored queues\n",
    "                frontier.append(child_cell)\n",
    "                explored.append(child_cell)\n",
    "                \n",
    "                # add this path to the bfs path dictionary\n",
    "                bfs_path[child_cell] = current_cell\n",
    "                \n",
    "    fwd_path = {}\n",
    "    cell = goal \n",
    "    \n",
    "    while cell != start:\n",
    "        fwd_path[bfs_path[cell]] = cell\n",
    "        cell = bfs_path[cell]\n",
    "        \n",
    "    # NOTE:\n",
    "    ##############################################################################################################################\n",
    "    # using the fwd_path dictionatry as the path value for tracing worked but it gave a runtime exception in TKinter            ##\n",
    "    # apparently for some reason, the goal cell is not being pushed to the dictionary but is being used in the trace function.  ##\n",
    "    # Hence the key error.                                                                                                      ##\n",
    "    # to solve this, the path dictionaries have been converted to directional strings as pyamaze accepts string sequence        ##\n",
    "    # string sequence can be any of 'EWNS'                                                                                      ##\n",
    "    ##############################################################################################################################\n",
    "        \n",
    "    # generate path string from path dictionary \n",
    "    path_string = ''\n",
    "    for key, value in fwd_path.items():\n",
    "        # Rule 1\n",
    "        if value[1] == key[1] - 1:\n",
    "            path_string += 'W'\n",
    "            \n",
    "        # Rule 2\n",
    "        if value[1] == key[1] + 1:\n",
    "            path_string += 'E'\n",
    "            \n",
    "        # Rule 4\n",
    "        if value[0] == key[0] + 1:\n",
    "            path_string += 'S'\n",
    "            \n",
    "        # Rule 4\n",
    "        if value[0] == key[0] - 1:\n",
    "            path_string += 'N'\n",
    "            \n",
    "    # return reversed string as path string is created from goal to starting point\n",
    "    return path_string[::-1]\n",
    "                "
   ]
  },
  {
   "cell_type": "markdown",
   "id": "21ea3d09",
   "metadata": {},
   "source": [
    "<div style = 'font-size: 16px; color: white; background-color: #2F2E3E; padding: 15px 10px; border-radius: 4px; border-radius: 10px'>\n",
    "    <h2>🧱 Create Environment</h2>\n",
    "    <ul>\n",
    "        <li>Create pyamaze environment to simulate car park </li>\n",
    "        <li>Add parked vehicles in environment </li>\n",
    "        <li>Set goal for ego vehicle</li>\n",
    "    </ul>\n",
    "</div>"
   ]
  },
  {
   "cell_type": "code",
   "execution_count": 3,
   "id": "4243e0ae",
   "metadata": {},
   "outputs": [
    {
     "name": "stdout",
     "output_type": "stream",
     "text": [
      "Path to goal not found!\n"
     ]
    }
   ],
   "source": [
    "# initialize maze \n",
    "parking_lot = maze(10, 14)\n",
    "\n",
    "# initialize parking goal \n",
    "parking_goal = (1, 1)\n",
    "\n",
    "# create maze\n",
    "# This was run once to create a local maze file. \n",
    "# parking_lot.CreateMaze(mazeName = 'parking_lot_maze', windowName = 'New test Window name', pattern = 'h')\n",
    "\n",
    "# load maze \n",
    "parking_lot.CreateMaze(loadMaze = 'parking_lot_maze.csv', windowName = 'EMMANUEL AI FOUNDATION - Q2002311')\n",
    "\n",
    "# set parking spots based on the map\n",
    "parking_lot.markCells = [(3,2), (4,2), (5,2), (6,2), (7,2), (8,2), (9, 2),\n",
    "                         (3,7), (4,7), (5,7), (6,7), (7,7), (8,7),\n",
    "                         (3,8), (4,8), (5,8), (6,8), (7,8), (8,8),\n",
    "                         (3,13), (4,13), (5,13), (6,13), (7,13), (8,13), (9, 13)]\n"
   ]
  },
  {
   "cell_type": "markdown",
   "id": "cf6c0637",
   "metadata": {},
   "source": [
    "<div style = 'font-size: 16px; color: white; background-color: #2F2E3E; padding: 15px 10px; border-radius: 4px; border-radius: 10px'>\n",
    "    <h2>🏆 Create Agents (Ego vehicle & Parked vehciles)</h2>\n",
    "    <ul>\n",
    "        <li>Create ego vehicles (vehicles to be parked)</li>\n",
    "        <li>Randomly pawn parked vehicles in the parking lot</li>\n",
    "        <li>Get spawn points of bays that have been occupied by parked vehicles</li>\n",
    "    </ul>\n",
    "</div>"
   ]
  },
  {
   "cell_type": "code",
   "execution_count": 4,
   "id": "3f4e5e73",
   "metadata": {},
   "outputs": [
    {
     "data": {
      "text/plain": [
       "{(3, 2),\n",
       " (3, 7),\n",
       " (3, 8),\n",
       " (3, 13),\n",
       " (4, 2),\n",
       " (4, 8),\n",
       " (4, 13),\n",
       " (5, 7),\n",
       " (5, 8),\n",
       " (5, 13),\n",
       " (6, 13),\n",
       " (7, 2),\n",
       " (7, 7),\n",
       " (7, 8),\n",
       " (7, 13),\n",
       " (8, 2),\n",
       " (8, 7),\n",
       " (8, 8),\n",
       " (8, 13),\n",
       " (9, 2)}"
      ]
     },
     "execution_count": 4,
     "metadata": {},
     "output_type": "execute_result"
    }
   ],
   "source": [
    "# create ego vehicle agent\n",
    "vehicle_one = agent(parking_lot, shape = 'arrow', color = COLOR.vehicle_one, footprints = True)\n",
    "vehicle_two = agent(parking_lot, shape = 'arrow', color = 'red', footprints = True)\n",
    "vehicle_three = agent(parking_lot, shape = 'arrow', color = 'yellow', footprints = True)\n",
    "vehicle_four = agent(parking_lot, shape = 'arrow', color = 'green', footprints = True)\n",
    "\n",
    "# get the spawn points of the parked vehicles\n",
    "used_bays = spawn_parked_vehicles(count = 20, pointList = parking_lot.markCells, mz = parking_lot)\n",
    "\n",
    "# view used bays \n",
    "used_bays"
   ]
  },
  {
   "cell_type": "markdown",
   "id": "287836de",
   "metadata": {},
   "source": [
    "<div style = 'font-size: 16px; color: white; background-color: #2F2E3E; padding: 15px 10px; border-radius: 4px; border-radius: 10px'>\n",
    "    <h2>🤲 What's left?</h2>\n",
    "    <ul>\n",
    "        <li>Get the spawn points that remain available</li>\n",
    "    </ul>\n",
    "</div>"
   ]
  },
  {
   "cell_type": "code",
   "execution_count": 5,
   "id": "f875c2ff",
   "metadata": {},
   "outputs": [
    {
     "data": {
      "text/plain": [
       "6"
      ]
     },
     "execution_count": 5,
     "metadata": {},
     "output_type": "execute_result"
    }
   ],
   "source": [
    "# create set for available bays \n",
    "available_bays = set()\n",
    "\n",
    "# get acvailable spawn points \n",
    "for point in parking_lot.markCells:\n",
    "    if point not in used_bays:\n",
    "        available_bays.add(point)\n",
    "\n",
    "# check how many bays are availble\n",
    "len(available_bays)\n"
   ]
  },
  {
   "cell_type": "markdown",
   "id": "c8f46111",
   "metadata": {},
   "source": [
    "<div style = 'font-size: 16px; color: white; background-color: #2F2E3E; padding: 15px 10px; border-radius: 4px; border-radius: 10px'>\n",
    "    <h2>🏆 Perform Breadth First Search (BFS) on the available spawn points</h2>\n",
    "    <ul>\n",
    "        <li>Loop through all spawn points</li>\n",
    "        <li>create a dictionary of spawn point, path and length of path</li>\n",
    "        <li>Get the four closest spawn points</li>\n",
    "    </ul>\n",
    "</div>"
   ]
  },
  {
   "cell_type": "code",
   "execution_count": 6,
   "id": "e053cdaa",
   "metadata": {
    "scrolled": false
   },
   "outputs": [
    {
     "name": "stdout",
     "output_type": "stream",
     "text": [
      "1. spawn point -> (9, 13) | path -> WWWNEE\n",
      "2. spawn point -> (6, 8) | path -> WWWNWNNNWW\n",
      "3. spawn point -> (6, 7) | path -> WWWNWWWWWWNNNEE\n",
      "4. spawn point -> (6, 2) | path -> WWWNWWWWWWWNNNWW\n"
     ]
    }
   ],
   "source": [
    "\n",
    "path_lengths = []\n",
    "\n",
    "# Find the closest bay \n",
    "for bay in available_bays:\n",
    "    path = BFS(mz = parking_lot, goal = bay)\n",
    "    path_lengths.append({\n",
    "        'spawn_point': bay,\n",
    "        'path': path, \n",
    "        'path_len': len(path)\n",
    "    })\n",
    "\n",
    "\n",
    "# sort path length for available bays \n",
    "sorted_path_lengths = sorted(path_lengths, key = lambda x: x['path_len'])\n",
    "\n",
    "# get the 4 closest bays\n",
    "closest_bays = sorted_path_lengths[:4]\n",
    "\n",
    "# show bay information\n",
    "for index, bay in enumerate(closest_bays):\n",
    "    print('{}. spawn point -> {} | path -> {}'.format(index + 1, bay['spawn_point'], bay['path']))"
   ]
  },
  {
   "cell_type": "markdown",
   "id": "12c6dd35",
   "metadata": {},
   "source": [
    "<div style = 'font-size: 16px; color: white; background-color: #2F2E3E; padding: 15px 10px; border-radius: 4px; border-radius: 10px'>\n",
    "    <h2>✨ Move the vehicles to the nearest optimal available bay</h2>\n",
    "    <ul>\n",
    "        <li>Create ego vehicles (vehicles to be parked)</li>\n",
    "        <li>Randomly pawn parked vehicles in the parking lot</li>\n",
    "        <li>Get spawn points of bays that have been occupied by parked vehicles</li>\n",
    "    </ul>\n",
    "</div>"
   ]
  },
  {
   "cell_type": "code",
   "execution_count": 7,
   "id": "02a9bcae",
   "metadata": {},
   "outputs": [
    {
     "data": {
      "text/plain": [
       "<__main__.textLabel at 0x1427520e9d0>"
      ]
     },
     "execution_count": 7,
     "metadata": {},
     "output_type": "execute_result"
    }
   ],
   "source": [
    "# move the four vehicles to the closest available bays \n",
    "parking_lot.tracePath({vehicle_one: closest_bays[0]['path']}, delay = 200)\n",
    "parking_lot.tracePath({vehicle_two: closest_bays[1]['path']}, delay = 200)\n",
    "parking_lot.tracePath({vehicle_three: closest_bays[2]['path']}, delay = 200)\n",
    "parking_lot.tracePath({vehicle_four: closest_bays[3]['path']}, delay = 200)\n",
    "\n",
    "\n",
    "# show each vehicles bay on the simulator window\n",
    "textLabel(parking_lot, 'vehicle 1 cells moved', closest_bays[0]['path_len'])\n",
    "textLabel(parking_lot, 'vehicle 2 cells moved', closest_bays[1]['path_len'])\n",
    "textLabel(parking_lot, 'vehicle 3 cells moved', closest_bays[2]['path_len'])\n",
    "textLabel(parking_lot, 'vehicle 4 cells moved', closest_bays[3]['path_len'])"
   ]
  },
  {
   "cell_type": "markdown",
   "id": "0eba3bb3",
   "metadata": {},
   "source": [
    "<div style = 'font-size: 16px; color: white; background-color: #2F2E3E; padding: 15px 10px; border-radius: 4px; border-radius: 10px'>\n",
    "    <h2>🏃 Run Simulation</h2>\n",
    "</div>"
   ]
  },
  {
   "cell_type": "code",
   "execution_count": 8,
   "id": "d5154cff",
   "metadata": {},
   "outputs": [],
   "source": [
    "parking_lot.run()"
   ]
  },
  {
   "cell_type": "markdown",
   "id": "ad7875a1",
   "metadata": {},
   "source": [
    "View code on github -> [Github Link](https://github.com/oddFEELING/automated-car-park)"
   ]
  }
 ],
 "metadata": {
  "kernelspec": {
   "display_name": "Python 3 (ipykernel)",
   "language": "python",
   "name": "python3"
  },
  "language_info": {
   "codemirror_mode": {
    "name": "ipython",
    "version": 3
   },
   "file_extension": ".py",
   "mimetype": "text/x-python",
   "name": "python",
   "nbconvert_exporter": "python",
   "pygments_lexer": "ipython3",
   "version": "3.11.5"
  }
 },
 "nbformat": 4,
 "nbformat_minor": 5
}
